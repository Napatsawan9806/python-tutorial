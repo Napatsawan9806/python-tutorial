{
 "cells": [
  {
   "cell_type": "code",
   "execution_count": null,
   "metadata": {},
   "outputs": [],
   "source": [
    "import numpy as np \n",
    "import time"
   ]
  },
  {
   "cell_type": "code",
   "execution_count": null,
   "metadata": {},
   "outputs": [],
   "source": [
    "start = time.time()\n",
    "n = 100\n",
    "x = np.arange(n) **2\n",
    "end = time.time()\n",
    "ending = end- start\n",
    "print(x,ending)\n",
    "\n",
    "start = time.time()\n",
    "for i in range(n):\n",
    "    print(i**2)\n",
    "end = time.time()\n",
    "ending = end-start\n",
    "print(f'speed of list {ending}')"
   ]
  },
  {
   "cell_type": "code",
   "execution_count": null,
   "metadata": {},
   "outputs": [],
   "source": [
    "lst = [5,6,7]\n",
    "a =np.array(lst)\n",
    "a\n",
    "a =np.array([[[1,2,3],[4,5,6],[7,8,9]]])\n",
    "a"
   ]
  },
  {
   "cell_type": "code",
   "execution_count": null,
   "metadata": {},
   "outputs": [],
   "source": [
    "a =np.array([[[1,2,3],[4,5,6],[7,8,9],[10,11,12]]])\n",
    "a[0,0,0] = 9999\n",
    "a\n",
    "# a.ndim"
   ]
  },
  {
   "cell_type": "code",
   "execution_count": null,
   "metadata": {},
   "outputs": [],
   "source": [
    "a= np.array([[1,2,3],[4,5,6],[7,8,9],[10,11,12]])\n",
    "a[1:2,1:2] = 9999\n",
    "a.ndim"
   ]
  },
  {
   "cell_type": "code",
   "execution_count": null,
   "metadata": {},
   "outputs": [],
   "source": [
    "# a= np.array([[1,2,3],[4,5,6],[7,8,9],[10,11,12]])\n",
    "# a.dtype\n",
    "# a = np.zeros([3,3])\n",
    "a\n",
    "a = np.zeros([9,12],dtype=\"int\")\n",
    "a"
   ]
  },
  {
   "cell_type": "code",
   "execution_count": null,
   "metadata": {},
   "outputs": [],
   "source": [
    "a = np.linspace(100,0,3)\n",
    "a\n",
    "# b = np.arange(1,100,5)\n",
    "# b\n",
    "# c = np.eye(10,10)\n",
    "# c"
   ]
  },
  {
   "cell_type": "code",
   "execution_count": null,
   "metadata": {},
   "outputs": [],
   "source": [
    "a = np.sum([90, 10], dtype=\"int\")\n",
    "a"
   ]
  },
  {
   "cell_type": "code",
   "execution_count": null,
   "metadata": {},
   "outputs": [],
   "source": [
    "a = np.array([[1,2,3,],[4,5,6]]).reshape(2,3)\n",
    "a"
   ]
  }
 ],
 "metadata": {
  "language_info": {
   "name": "python"
  }
 },
 "nbformat": 4,
 "nbformat_minor": 2
}
